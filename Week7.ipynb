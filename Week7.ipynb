{
  "nbformat": 4,
  "nbformat_minor": 0,
  "metadata": {
    "colab": {
      "provenance": []
    },
    "kernelspec": {
      "name": "python3",
      "display_name": "Python 3"
    },
    "language_info": {
      "name": "python"
    }
  },
  "cells": [
    {
      "cell_type": "markdown",
      "source": [
        "**#WORKING**\n",
        "\n",
        "\n",
        "\n",
        "*   The user provides a plaintext message and a key. The key should be at least as long as the plaintext message.\n",
        "*  Encryption :\n",
        "\n",
        "              *  The function iterates through each character in the message.\n",
        "              *   For each character, it checks if it's an alphabet character.\n",
        "              *   If it's an alphabet, it determines the starting ASCII value based on whether it's uppercase or lowercase.\n",
        "              *   It retrieves the corresponding character from the key, based on the current position in the plaintext.\n",
        "              *   Encryption is performed by XORing the ASCII values of the plaintext character and the key character.\n",
        "              *   The result is wrapped around to the range of alphabets using modulo 26 and converted back to a character.\n",
        "              *   The encrypted character is appended to the cipher_text.\n",
        "\n",
        "\n",
        "\n",
        "*   Decryption :\n",
        "               \n",
        "               *   The decryption process is reverse of encryption.\n",
        "\n",
        "               *   It iterates through each character in the ciphertext.\n",
        "               *   For each character, it retrieves the corresponding character from the key using modulo operation to cycle through the key.\n",
        "               *   Decryption is performed by XORing the ASCII values of the ciphertext character and the key character.\n",
        "               *   The result is wrapped around to the range of alphabets using modulo 26 and converted back to a character.\n",
        "\n",
        "               *   The decrypted character is appended to the plain_text.\n",
        "\n",
        "\n",
        "\n",
        "\n",
        "*   After encryption and decryption, its prints out both encrypted and decrypted texts.\n",
        "\n",
        "\n",
        "\n",
        "\n",
        "\n",
        "\n",
        "\n",
        "\n",
        "\n",
        "\n",
        "\n",
        "\n",
        "\n",
        "\n"
      ],
      "metadata": {
        "id": "zDLYApS_P6ci"
      }
    },
    {
      "cell_type": "code",
      "execution_count": 3,
      "metadata": {
        "colab": {
          "base_uri": "https://localhost:8080/"
        },
        "id": "8k-jObCQMEpk",
        "outputId": "574f44d5-0fc3-4793-cdd4-daa6598f82f2"
      },
      "outputs": [
        {
          "output_type": "stream",
          "name": "stdout",
          "text": [
            "Enter the plain text:hell\n",
            "Enter the key:abcd\n",
            "Encrypted text: axee\n",
            "Decrypted text: hell\n"
          ]
        }
      ],
      "source": [
        "#Vernam cipher\n",
        "\n",
        "def encrypt(plain_text,key):\n",
        "    cipher_text=\"\"\n",
        "    for i in range(len(plain_text)):\n",
        "        char = plain_text[i]\n",
        "        if char.isalpha():\n",
        "            if char.isupper():\n",
        "                start=ord('A')\n",
        "            else:\n",
        "                start=ord('a')\n",
        "            key = key[i % len(key)]\n",
        "            encrypted_char = chr((ord(char) - start+ ord(key)) % 26 + start)\n",
        "            cipher_text= cipher_text + encrypted_char\n",
        "    return cipher_text\n",
        "\n",
        "\n",
        "def decrypt(cipher_text,key):\n",
        "    plain_text = \"\"\n",
        "    for i in range(len(cipher_text)):\n",
        "        char = cipher_text[i]\n",
        "        if char.isalpha():\n",
        "            if char.isupper():\n",
        "                start=ord('A')\n",
        "            else:\n",
        "                start=ord('a')\n",
        "            key = key[i % len(key)]\n",
        "            decrypted_char = chr((ord(char) - start - ord(key)) % 26 + start)\n",
        "            plain_text=plain_text + decrypted_char\n",
        "    return plain_text\n",
        "text=input(\"Enter the plain text:\")\n",
        "key =input(\"Enter the key:\")\n",
        "cipher_text = encrypt(text,key)\n",
        "decrypted_text= decrypt(cipher_text,key)\n",
        "print(\"Encrypted text:\",cipher_text)\n",
        "print(\"Decrypted text:\",decrypted_text)"
      ]
    },
    {
      "cell_type": "markdown",
      "source": [
        "**#WORKING**\n",
        "\n",
        "\n",
        "\n",
        "\n",
        "*   Input : The user provides the plaintext.\n",
        "\n",
        "\n",
        "\n",
        "*   Encryption :\n",
        "              *   The encryption function iterates through each character in the plaintext.\n",
        "\n",
        "              *   For each character, it calculates the ASCII value of that character using the ord() function.\n",
        "              *   It then adds 3 to the ASCII value, effectively shifting the character three positions to the right in the ASCII table.\n",
        "              *   The new ASCII value is converted back to a character using the chr() function.\n",
        "              *   The encrypted character is appended to the strings variable.\n",
        "\n",
        "              *   After going through all characters in plaintext, the function will return the encrypted string.\n",
        "              \n",
        "\n",
        "\n",
        "\n",
        "*   Decryption :\n",
        "\n",
        "              *   Decryption function is the reverse of encryption.\n",
        "\n",
        "              *   It iterates through each character in the ciphertext.\n",
        "              *   For each character, it calculates the ASCII value and subtracts 3 from it, effectively shifting the character three positions to the left in the ASCII table.\n",
        "\n",
        "              *   The new ASCII value is converted back to a character.\n",
        "              *   The decrypted character is appended to the strings variable.\n",
        "\n",
        "              *   After going through all characters in the ciphertext, the function will return the decrypted string.\n",
        "              \n",
        "*  Output : After execution it prints both the encrypted and decrypted texts.\n",
        "\n",
        "\n",
        "\n",
        "\n",
        "\n",
        "\n",
        "\n",
        "\n",
        "\n",
        "\n",
        "\n",
        "\n",
        "\n",
        "\n"
      ],
      "metadata": {
        "id": "g57z5b39Sy3b"
      }
    },
    {
      "cell_type": "code",
      "source": [
        "#Ceaser cipher\n",
        "def encryption():\n",
        "    strings=\"\"\n",
        "    for char in text:\n",
        "        ascii = ord(char)\n",
        "        new_ascii=ascii+3\n",
        "        new_char=chr(new_ascii)\n",
        "        strings=strings+new_char\n",
        "    return strings\n",
        "\n",
        "def decryption():\n",
        "    strings=\"\"\n",
        "    for char in cipher:\n",
        "        ascii = ord(char)\n",
        "        new_ascii=ascii-3\n",
        "        new_char=chr(new_ascii)\n",
        "        strings=strings+new_char\n",
        "    return strings\n",
        "\n",
        "text=input(\"Enter the text:\")\n",
        "cipher=encryption()\n",
        "print(\"Encrypted text:\",cipher)\n",
        "plain=decryption()\n",
        "print(\"Decrypted text:\",plain)"
      ],
      "metadata": {
        "colab": {
          "base_uri": "https://localhost:8080/"
        },
        "id": "JunBh6bmM_uG",
        "outputId": "30dc25d3-ec5d-46d0-e8a5-446c2b7433ec"
      },
      "execution_count": 2,
      "outputs": [
        {
          "output_type": "stream",
          "name": "stdout",
          "text": [
            "Enter the text:heaven\n",
            "Encrypted text: khdyhq\n",
            "Decrypted text: heaven\n"
          ]
        }
      ]
    }
  ]
}